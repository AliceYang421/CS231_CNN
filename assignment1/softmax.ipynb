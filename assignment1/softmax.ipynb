{
 "cells": [
  {
   "cell_type": "markdown",
   "metadata": {},
   "source": [
    "# Softmax exercise\n",
    "\n",
    "*Complete and hand in this completed worksheet (including its outputs and any supporting code outside of the worksheet) with your assignment submission. For more details see the [assignments page](http://vision.stanford.edu/teaching/cs231n/assignments.html) on the course website.*\n",
    "\n",
    "This exercise is analogous to the SVM exercise. You will:\n",
    "\n",
    "- implement a fully-vectorized **loss function** for the Softmax classifier\n",
    "- implement the fully-vectorized expression for its **analytic gradient**\n",
    "- **check your implementation** with numerical gradient\n",
    "- use a validation set to **tune the learning rate and regularization** strength\n",
    "- **optimize** the loss function with **SGD**\n",
    "- **visualize** the final learned weights\n"
   ]
  },
  {
   "cell_type": "code",
   "execution_count": 1,
   "metadata": {
    "collapsed": false
   },
   "outputs": [],
   "source": [
    "import random\n",
    "import numpy as np\n",
    "from cs231n.data_utils import load_CIFAR10\n",
    "import matplotlib.pyplot as plt\n",
    "\n",
    "from __future__ import print_function\n",
    "\n",
    "%matplotlib inline\n",
    "plt.rcParams['figure.figsize'] = (10.0, 8.0) # set default size of plots\n",
    "plt.rcParams['image.interpolation'] = 'nearest'\n",
    "plt.rcParams['image.cmap'] = 'gray'\n",
    "\n",
    "# for auto-reloading extenrnal modules\n",
    "# see http://stackoverflow.com/questions/1907993/autoreload-of-modules-in-ipython\n",
    "%load_ext autoreload\n",
    "%autoreload 2"
   ]
  },
  {
   "cell_type": "code",
   "execution_count": 2,
   "metadata": {
    "collapsed": false
   },
   "outputs": [
    {
     "name": "stdout",
     "output_type": "stream",
     "text": [
      "Train data shape:  (49000, 3073)\n",
      "Train labels shape:  (49000,)\n",
      "Validation data shape:  (1000, 3073)\n",
      "Validation labels shape:  (1000,)\n",
      "Test data shape:  (1000, 3073)\n",
      "Test labels shape:  (1000,)\n",
      "dev data shape:  (500, 3073)\n",
      "dev labels shape:  (500,)\n"
     ]
    }
   ],
   "source": [
    "def get_CIFAR10_data(num_training=49000, num_validation=1000, num_test=1000, num_dev=500):\n",
    "    \"\"\"\n",
    "    Load the CIFAR-10 dataset from disk and perform preprocessing to prepare\n",
    "    it for the linear classifier. These are the same steps as we used for the\n",
    "    SVM, but condensed to a single function.  \n",
    "    \"\"\"\n",
    "    # Load the raw CIFAR-10 data\n",
    "    cifar10_dir = 'cs231n/datasets/cifar-10-batches-py'\n",
    "    X_train, y_train, X_test, y_test = load_CIFAR10(cifar10_dir)\n",
    "    \n",
    "    # subsample the data\n",
    "    mask = list(range(num_training, num_training + num_validation))\n",
    "    X_val = X_train[mask]\n",
    "    y_val = y_train[mask]\n",
    "    mask = list(range(num_training))\n",
    "    X_train = X_train[mask]\n",
    "    y_train = y_train[mask]\n",
    "    mask = list(range(num_test))\n",
    "    X_test = X_test[mask]\n",
    "    y_test = y_test[mask]\n",
    "    mask = np.random.choice(num_training, num_dev, replace=False)\n",
    "    X_dev = X_train[mask]\n",
    "    y_dev = y_train[mask]\n",
    "    \n",
    "    # Preprocessing: reshape the image data into rows\n",
    "    X_train = np.reshape(X_train, (X_train.shape[0], -1))\n",
    "    X_val = np.reshape(X_val, (X_val.shape[0], -1))\n",
    "    X_test = np.reshape(X_test, (X_test.shape[0], -1))\n",
    "    X_dev = np.reshape(X_dev, (X_dev.shape[0], -1))\n",
    "    \n",
    "    # Normalize the data: subtract the mean image\n",
    "    mean_image = np.mean(X_train, axis = 0)\n",
    "    X_train -= mean_image\n",
    "    X_val -= mean_image\n",
    "    X_test -= mean_image\n",
    "    X_dev -= mean_image\n",
    "    \n",
    "    # add bias dimension and transform into columns\n",
    "    X_train = np.hstack([X_train, np.ones((X_train.shape[0], 1))])\n",
    "    X_val = np.hstack([X_val, np.ones((X_val.shape[0], 1))])\n",
    "    X_test = np.hstack([X_test, np.ones((X_test.shape[0], 1))])\n",
    "    X_dev = np.hstack([X_dev, np.ones((X_dev.shape[0], 1))])\n",
    "    \n",
    "    return X_train, y_train, X_val, y_val, X_test, y_test, X_dev, y_dev\n",
    "\n",
    "\n",
    "# Invoke the above function to get our data.\n",
    "X_train, y_train, X_val, y_val, X_test, y_test, X_dev, y_dev = get_CIFAR10_data()\n",
    "print('Train data shape: ', X_train.shape)\n",
    "print('Train labels shape: ', y_train.shape)\n",
    "print('Validation data shape: ', X_val.shape)\n",
    "print('Validation labels shape: ', y_val.shape)\n",
    "print('Test data shape: ', X_test.shape)\n",
    "print('Test labels shape: ', y_test.shape)\n",
    "print('dev data shape: ', X_dev.shape)\n",
    "print('dev labels shape: ', y_dev.shape)"
   ]
  },
  {
   "cell_type": "markdown",
   "metadata": {},
   "source": [
    "## Softmax Classifier\n",
    "\n",
    "Your code for this section will all be written inside **cs231n/classifiers/softmax.py**. \n"
   ]
  },
  {
   "cell_type": "code",
   "execution_count": 67,
   "metadata": {
    "collapsed": false
   },
   "outputs": [
    {
     "name": "stdout",
     "output_type": "stream",
     "text": [
      "(3073, 10)\n",
      "loss: 2.356834\n",
      "sanity check: 2.302585\n"
     ]
    }
   ],
   "source": [
    "# First implement the naive softmax loss function with nested loops.\n",
    "# Open the file cs231n/classifiers/softmax.py and implement the\n",
    "# softmax_loss_naive function.\n",
    "\n",
    "from cs231n.classifiers.softmax import softmax_loss_naive\n",
    "import time\n",
    "\n",
    "# Generate a random softmax weight matrix and use it to compute the loss.\n",
    "W = np.random.randn(3073, 10) * 0.0001\n",
    "loss, grad = softmax_loss_naive(W, X_dev, y_dev, 0.0)\n",
    "\n",
    "# As a rough sanity check, our loss should be something close to -log(0.1).\n",
    "print('loss: %f' % loss)\n",
    "print('sanity check: %f' % (-np.log(0.1)))"
   ]
  },
  {
   "cell_type": "markdown",
   "metadata": {},
   "source": [
    "## Inline Question 1:\n",
    "Why do we expect our loss to be close to -log(0.1)? Explain briefly.**\n",
    "\n",
    "**Your answer:** *Fill this in*\n",
    "Since all the weights are zero, there are ten classes and all the e^XW value is the same. So all the log(p) value is log(0.1). Thus, the average error is -log(0.1)."
   ]
  },
  {
   "cell_type": "code",
   "execution_count": 66,
   "metadata": {
    "collapsed": false
   },
   "outputs": [
    {
     "name": "stdout",
     "output_type": "stream",
     "text": [
      "(3073, 10)\n",
      "(3073, 10)\n",
      "(3073, 10)\n",
      "numerical: -0.213755 analytic: -0.213755, relative error: 7.336367e-08\n",
      "(3073, 10)\n",
      "(3073, 10)\n",
      "numerical: -1.309087 analytic: -1.309087, relative error: 2.313783e-08\n",
      "(3073, 10)\n",
      "(3073, 10)\n",
      "numerical: 0.406597 analytic: 0.406597, relative error: 1.284338e-08\n",
      "(3073, 10)\n",
      "(3073, 10)\n",
      "numerical: 0.022025 analytic: 0.022025, relative error: 1.649085e-06\n",
      "(3073, 10)\n",
      "(3073, 10)\n",
      "numerical: 0.288690 analytic: 0.288689, relative error: 1.582842e-07\n",
      "(3073, 10)\n",
      "(3073, 10)\n",
      "numerical: -5.115800 analytic: -5.115800, relative error: 5.038030e-09\n",
      "(3073, 10)\n",
      "(3073, 10)\n",
      "numerical: -2.565515 analytic: -2.565515, relative error: 1.026722e-08\n",
      "(3073, 10)\n",
      "(3073, 10)\n",
      "numerical: -0.529007 analytic: -0.529007, relative error: 2.377365e-08\n",
      "(3073, 10)\n",
      "(3073, 10)\n",
      "numerical: 1.912946 analytic: 1.912946, relative error: 2.167816e-10\n",
      "(3073, 10)\n",
      "(3073, 10)\n",
      "numerical: -0.372926 analytic: -0.372926, relative error: 9.994041e-08\n",
      "(3073, 10)\n",
      "(3073, 10)\n",
      "(3073, 10)\n",
      "numerical: 2.191049 analytic: 2.191049, relative error: 4.055481e-08\n",
      "(3073, 10)\n",
      "(3073, 10)\n",
      "numerical: -1.206413 analytic: -1.206413, relative error: 1.286557e-09\n",
      "(3073, 10)\n",
      "(3073, 10)\n",
      "numerical: -1.489541 analytic: -1.489541, relative error: 2.952690e-08\n",
      "(3073, 10)\n",
      "(3073, 10)\n",
      "numerical: -0.949535 analytic: -0.949535, relative error: 7.250794e-08\n",
      "(3073, 10)\n",
      "(3073, 10)\n",
      "numerical: -1.942822 analytic: -1.942822, relative error: 8.329082e-09\n",
      "(3073, 10)\n",
      "(3073, 10)\n",
      "numerical: -5.404713 analytic: -5.404713, relative error: 1.031863e-08\n",
      "(3073, 10)\n",
      "(3073, 10)\n",
      "numerical: 0.236126 analytic: 0.236126, relative error: 5.363358e-08\n",
      "(3073, 10)\n",
      "(3073, 10)\n",
      "numerical: 0.029654 analytic: 0.029654, relative error: 1.925761e-06\n",
      "(3073, 10)\n",
      "(3073, 10)\n",
      "numerical: 2.100615 analytic: 2.100615, relative error: 8.645500e-09\n",
      "(3073, 10)\n",
      "(3073, 10)\n",
      "numerical: 3.797855 analytic: 3.797855, relative error: 9.672713e-09\n"
     ]
    }
   ],
   "source": [
    "# Complete the implementation of softmax_loss_naive and implement a (naive)\n",
    "# version of the gradient that uses nested loops.\n",
    "loss, grad = softmax_loss_naive(W, X_dev, y_dev, 0.0)\n",
    "\n",
    "# As we did for the SVM, use numeric gradient checking as a debugging tool.\n",
    "# The numeric gradient should be close to the analytic gradient.\n",
    "from cs231n.gradient_check import grad_check_sparse\n",
    "f = lambda w: softmax_loss_naive(w, X_dev, y_dev, 0.0)[0]\n",
    "grad_numerical = grad_check_sparse(f, W, grad, 10)\n",
    "\n",
    "# similar to SVM case, do another gradient check with regularization\n",
    "loss, grad = softmax_loss_naive(W, X_dev, y_dev, 5e1)\n",
    "f = lambda w: softmax_loss_naive(w, X_dev, y_dev, 5e1)[0]\n",
    "grad_numerical = grad_check_sparse(f, W, grad, 10)"
   ]
  },
  {
   "cell_type": "code",
   "execution_count": 65,
   "metadata": {
    "collapsed": false
   },
   "outputs": [
    {
     "name": "stdout",
     "output_type": "stream",
     "text": [
      "(3073, 10)\n",
      "naive loss: 2.333280e+00 computed in 0.266863s\n",
      "vectorized loss: 2.333280e+00 computed in 0.025904s\n",
      "Loss difference: 0.000000\n",
      "Gradient difference: 0.000000\n"
     ]
    }
   ],
   "source": [
    "# Now that we have a naive implementation of the softmax loss function and its gradient,\n",
    "# implement a vectorized version in softmax_loss_vectorized.\n",
    "# The two versions should compute the same results, but the vectorized version should be\n",
    "# much faster.\n",
    "tic = time.time()\n",
    "loss_naive, grad_naive = softmax_loss_naive(W, X_dev, y_dev, 0.000005)\n",
    "toc = time.time()\n",
    "print('naive loss: %e computed in %fs' % (loss_naive, toc - tic))\n",
    "\n",
    "from cs231n.classifiers.softmax import softmax_loss_vectorized\n",
    "tic = time.time()\n",
    "loss_vectorized, grad_vectorized = softmax_loss_vectorized(W, X_dev, y_dev, 0.000005)\n",
    "toc = time.time()\n",
    "print('vectorized loss: %e computed in %fs' % (loss_vectorized, toc - tic))\n",
    "\n",
    "# As we did for the SVM, we use the Frobenius norm to compare the two versions\n",
    "# of the gradient.\n",
    "grad_difference = np.linalg.norm(grad_naive - grad_vectorized, ord='fro')\n",
    "print('Loss difference: %f' % np.abs(loss_naive - loss_vectorized))\n",
    "print('Gradient difference: %f' % grad_difference)"
   ]
  },
  {
   "cell_type": "code",
   "execution_count": 62,
   "metadata": {
    "collapsed": false
   },
   "outputs": [
    {
     "name": "stdout",
     "output_type": "stream",
     "text": [
      "lr 1.000000e-09 reg 1.000000e-04 train accuracy: 0.310061 val accuracy: 0.325000\n",
      "lr 1.000000e-09 reg 1.467799e-03 train accuracy: 0.309061 val accuracy: 0.318000\n",
      "lr 1.000000e-09 reg 2.154435e-02 train accuracy: 0.314551 val accuracy: 0.321000\n",
      "lr 1.000000e-09 reg 3.162278e-01 train accuracy: 0.306612 val accuracy: 0.320000\n",
      "lr 1.000000e-09 reg 4.641589e+00 train accuracy: 0.312755 val accuracy: 0.308000\n",
      "lr 1.000000e-09 reg 6.812921e+01 train accuracy: 0.311102 val accuracy: 0.305000\n",
      "lr 1.000000e-09 reg 1.000000e+03 train accuracy: 0.306469 val accuracy: 0.322000\n",
      "lr 5.623413e-09 reg 1.000000e-04 train accuracy: 0.305735 val accuracy: 0.311000\n",
      "lr 5.623413e-09 reg 1.467799e-03 train accuracy: 0.310633 val accuracy: 0.330000\n",
      "lr 5.623413e-09 reg 2.154435e-02 train accuracy: 0.311469 val accuracy: 0.320000\n",
      "lr 5.623413e-09 reg 3.162278e-01 train accuracy: 0.306122 val accuracy: 0.318000\n",
      "lr 5.623413e-09 reg 4.641589e+00 train accuracy: 0.312694 val accuracy: 0.320000\n",
      "lr 5.623413e-09 reg 6.812921e+01 train accuracy: 0.315694 val accuracy: 0.338000\n",
      "lr 5.623413e-09 reg 1.000000e+03 train accuracy: 0.305592 val accuracy: 0.318000\n",
      "lr 3.162278e-08 reg 1.000000e-04 train accuracy: 0.307204 val accuracy: 0.319000\n",
      "lr 3.162278e-08 reg 1.467799e-03 train accuracy: 0.316061 val accuracy: 0.347000\n",
      "lr 3.162278e-08 reg 2.154435e-02 train accuracy: 0.311082 val accuracy: 0.333000\n",
      "lr 3.162278e-08 reg 3.162278e-01 train accuracy: 0.314898 val accuracy: 0.329000\n",
      "lr 3.162278e-08 reg 4.641589e+00 train accuracy: 0.310020 val accuracy: 0.340000\n",
      "lr 3.162278e-08 reg 6.812921e+01 train accuracy: 0.314061 val accuracy: 0.312000\n",
      "lr 3.162278e-08 reg 1.000000e+03 train accuracy: 0.309633 val accuracy: 0.309000\n",
      "lr 1.778279e-07 reg 1.000000e-04 train accuracy: 0.303653 val accuracy: 0.306000\n",
      "lr 1.778279e-07 reg 1.467799e-03 train accuracy: 0.309980 val accuracy: 0.318000\n",
      "lr 1.778279e-07 reg 2.154435e-02 train accuracy: 0.310469 val accuracy: 0.315000\n",
      "lr 1.778279e-07 reg 3.162278e-01 train accuracy: 0.308204 val accuracy: 0.326000\n",
      "lr 1.778279e-07 reg 4.641589e+00 train accuracy: 0.308143 val accuracy: 0.331000\n",
      "lr 1.778279e-07 reg 6.812921e+01 train accuracy: 0.310429 val accuracy: 0.334000\n",
      "lr 1.778279e-07 reg 1.000000e+03 train accuracy: 0.314490 val accuracy: 0.341000\n",
      "lr 1.000000e-06 reg 1.000000e-04 train accuracy: 0.309878 val accuracy: 0.298000\n",
      "lr 1.000000e-06 reg 1.467799e-03 train accuracy: 0.311857 val accuracy: 0.323000\n",
      "lr 1.000000e-06 reg 2.154435e-02 train accuracy: 0.313122 val accuracy: 0.315000\n",
      "lr 1.000000e-06 reg 3.162278e-01 train accuracy: 0.312408 val accuracy: 0.315000\n",
      "lr 1.000000e-06 reg 4.641589e+00 train accuracy: 0.310776 val accuracy: 0.328000\n",
      "lr 1.000000e-06 reg 6.812921e+01 train accuracy: 0.308939 val accuracy: 0.320000\n",
      "lr 1.000000e-06 reg 1.000000e+03 train accuracy: 0.302673 val accuracy: 0.315000\n",
      "best validation accuracy achieved during cross-validation: 0.347000\n"
     ]
    }
   ],
   "source": [
    "# Use the validation set to tune hyperparameters (regularization strength and\n",
    "# learning rate). You should experiment with different ranges for the learning\n",
    "# rates and regularization strengths; if you are careful you should be able to\n",
    "# get a classification accuracy of over 0.35 on the validation set.\n",
    "from cs231n.classifiers import Softmax\n",
    "results = {}\n",
    "best_val = -1\n",
    "best_softmax = None\n",
    "learning_rates = np.logspace(-9, -6, num=5)\n",
    "regularization_strengths = np.logspace(-4, 3, num=7)\n",
    "\n",
    "################################################################################\n",
    "# TODO:                                                                        #\n",
    "# Use the validation set to set the learning rate and regularization strength. #\n",
    "# This should be identical to the validation that you did for the SVM; save    #\n",
    "# the best trained softmax classifer in best_softmax.                          #\n",
    "################################################################################\n",
    "for learning in learning_rates:\n",
    "    for L2 in regularization_strengths:\n",
    "        train_accu = 0.0\n",
    "        cv_accu = 0.0\n",
    "        softmax = Softmax()\n",
    "        softmax.train(X_train, y_train, learning_rate=1e-7, reg=2.5e4, num_iters=500, verbose=False)\n",
    "        y_train_pred = softmax.predict(X_train)\n",
    "        y_val_pred = softmax.predict(X_val)\n",
    "        train_accu = np.mean(y_train == y_train_pred)\n",
    "        val_accu = np.mean(y_val == y_val_pred)\n",
    "        if best_val == -1 or best_val < val_accu:\n",
    "           best_val = val_accu\n",
    "           best_softmax = softmax\n",
    "        results[(learning, L2)] = (train_accu, val_accu)\n",
    "################################################################################\n",
    "#                              END OF YOUR CODE                                #\n",
    "################################################################################\n",
    "    \n",
    "# Print out results.\n",
    "for lr, reg in sorted(results):\n",
    "    train_accuracy, val_accuracy = results[(lr, reg)]\n",
    "    print('lr %e reg %e train accuracy: %f val accuracy: %f' % (\n",
    "                lr, reg, train_accuracy, val_accuracy))\n",
    "    \n",
    "print('best validation accuracy achieved during cross-validation: %f' % best_val)"
   ]
  },
  {
   "cell_type": "code",
   "execution_count": 63,
   "metadata": {
    "collapsed": false
   },
   "outputs": [
    {
     "name": "stdout",
     "output_type": "stream",
     "text": [
      "softmax on raw pixels final test set accuracy: 0.329000\n"
     ]
    }
   ],
   "source": [
    "# evaluate on test set\n",
    "# Evaluate the best softmax on test set\n",
    "y_test_pred = best_softmax.predict(X_test)\n",
    "test_accuracy = np.mean(y_test == y_test_pred)\n",
    "print('softmax on raw pixels final test set accuracy: %f' % (test_accuracy, ))"
   ]
  },
  {
   "cell_type": "code",
   "execution_count": 64,
   "metadata": {
    "collapsed": false
   },
   "outputs": [
    {
     "data": {
      "image/png": "[encoded data removed]",
      "text/plain": [
       "<matplotlib.figure.Figure at 0x119768128>"
      ]
     },
     "metadata": {},
     "output_type": "display_data"
    }
   ],
   "source": [
    "# Visualize the learned weights for each class\n",
    "w = best_softmax.W[:-1,:] # strip out the bias\n",
    "w = w.reshape(32, 32, 3, 10)\n",
    "\n",
    "w_min, w_max = np.min(w), np.max(w)\n",
    "\n",
    "classes = ['plane', 'car', 'bird', 'cat', 'deer', 'dog', 'frog', 'horse', 'ship', 'truck']\n",
    "for i in range(10):\n",
    "    plt.subplot(2, 5, i + 1)\n",
    "    \n",
    "    # Rescale the weights to be between 0 and 255\n",
    "    wimg = 255.0 * (w[:, :, :, i].squeeze() - w_min) / (w_max - w_min)\n",
    "    plt.imshow(wimg.astype('uint8'))\n",
    "    plt.axis('off')\n",
    "    plt.title(classes[i])"
   ]
  },
  {
   "cell_type": "code",
   "execution_count": 74,
   "metadata": {
    "collapsed": false
   },
   "outputs": [
    {
     "name": "stdout",
     "output_type": "stream",
     "text": [
      "(3,)\n"
     ]
    }
   ],
   "source": [
    "a = np.array([1, 2, 3])\n",
    "print (a.shape)"
   ]
  },
  {
   "cell_type": "code",
   "execution_count": null,
   "metadata": {
    "collapsed": true
   },
   "outputs": [],
   "source": []
  }
 ],
 "metadata": {
  "kernelspec": {
   "display_name": "Python 3",
   "language": "python",
   "name": "python3"
  },
  "language_info": {
   "codemirror_mode": {
    "name": "ipython",
    "version": 3
   },
   "file_extension": ".py",
   "mimetype": "text/x-python",
   "name": "python",
   "nbconvert_exporter": "python",
   "pygments_lexer": "ipython3",
   "version": "3.6.1"
  }
 },
 "nbformat": 4,
 "nbformat_minor": 0
}
